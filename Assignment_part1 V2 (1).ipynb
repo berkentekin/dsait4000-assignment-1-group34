{
  "cells": [
    {
      "cell_type": "markdown",
      "metadata": {
        "id": "O3XaxKH6Kftw"
      },
      "source": [
        "# Introduction\n",
        "A very important aspect of supervised and semi-supervised machine learning is the quality of the labels produced by human labelers. Unfortunately, humans are not perfect and in some cases may even maliciously label things incorrectly. In this assignment, you will evaluate the impact of incorrect labels on a number of different classifiers.\n",
        "\n",
        "We have provided a number of code snippets you can use during this assignment. Feel free to modify them or replace them.\n",
        "\n",
        "\n",
        "## Dataset\n",
        "The dataset you will be using is the [Adult Income dataset](https://archive.ics.uci.edu/ml/datasets/Adult). This dataset was created by Ronny Kohavi and Barry Becker and was used to predict whether a person's income is more/less than 50k USD based on census data."
      ]
    },
    {
      "cell_type": "markdown",
      "metadata": {
        "id": "4PQMNKE8Kftx"
      },
      "source": [
        "### Data preprocessing\n",
        "Start by loading and preprocessing the data. Remove NaN values, convert strings to categorical variables and encode the target variable (the string <=50K, >50K in column index 14)."
      ]
    },
    {
      "cell_type": "code",
      "execution_count": null,
      "metadata": {
        "id": "uWQ1LajpKftx"
      },
      "outputs": [],
      "source": [
        "import pandas as pd\n",
        "import numpy as np"
      ]
    },
    {
      "cell_type": "code",
      "execution_count": null,
      "metadata": {
        "id": "FPV_mO_OKfty"
      },
      "outputs": [],
      "source": [
        "# This can be used to load the dataset\n",
        "data = pd.read_csv(\"adult.csv\", na_values='?')\n",
        "data.head()\n"
      ]
    },
    {
      "cell_type": "markdown",
      "metadata": {
        "id": "XW1yPBViKfty"
      },
      "source": [
        "##### Check the percentage of missing values in the columns. Rule of thumb: If the percentage of missing values is above 60%, remove the feature."
      ]
    },
    {
      "cell_type": "code",
      "execution_count": null,
      "metadata": {
        "id": "4dsqYhcHKfty"
      },
      "outputs": [],
      "source": [
        "for column in data.columns:\n",
        "    nan_count = data[column].isna().sum()/len(data)*100\n",
        "    print(\"Percentage of NaN in column \" + column + \" is \" + str(nan_count) + \"\\n\")"
      ]
    },
    {
      "cell_type": "markdown",
      "metadata": {
        "id": "XiXVdGrBKftz"
      },
      "source": [
        "Remove all rows that contain nan values, since the columns with missing values can't be imputed (no numerical values)"
      ]
    },
    {
      "cell_type": "code",
      "execution_count": null,
      "metadata": {
        "id": "lQ6OhS3jKftz"
      },
      "outputs": [],
      "source": [
        "data_before = len(data)\n",
        "data = data.dropna()\n",
        "data_after = len(data)\n",
        "print(\"Removed \" + str(data_before-data_after) + \" rows from the \" + str(data_before) + \" rows\")\n",
        "\n",
        "data = data.drop(columns=[\"education\", \"fnlwgt\"])\n",
        "print(data)\n"
      ]
    },
    {
      "cell_type": "markdown",
      "metadata": {
        "id": "K0yLs2bGKftz"
      },
      "source": [
        "Turn string columns into categorical data"
      ]
    },
    {
      "cell_type": "code",
      "execution_count": null,
      "metadata": {
        "id": "MoGd9OOkKftz"
      },
      "outputs": [],
      "source": [
        "string_columns = ['workclass','marital-status','occupation','relationship','race','sex','native-country']\n",
        "for col in string_columns:\n",
        "    data[col] = pd.Categorical(data[col])"
      ]
    },
    {
      "cell_type": "code",
      "execution_count": null,
      "metadata": {
        "id": "q7mubsGcKftz"
      },
      "outputs": [],
      "source": [
        "print(data['salary'].unique())\n",
        "data['salary'] = data['salary'].str.strip().str.replace(r\"\\.$\", \"\", regex=True)\n",
        "data['salary'] = pd.Categorical(data['salary'],categories=[\"<=50K\", \">50K\"],ordered=False)"
      ]
    },
    {
      "cell_type": "markdown",
      "metadata": {
        "id": "6XnEYOemKft0"
      },
      "source": [
        "### Data classification\n",
        "Choose at least 4 different classifiers and evaluate their performance in predicting the target variable.\n",
        "\n",
        "#### Preprocessing\n",
        "Think about how you are going to encode the categorical variables, normalization, whether you want to use all of the features, feature dimensionality reduction, etc. Justify your choices\n",
        "\n",
        "A good method to apply preprocessing steps is using a Pipeline. Read more about this [here](https://machinelearningmastery.com/columntransformer-for-numerical-and-categorical-data/) and [here](https://medium.com/vickdata/a-simple-guide-to-scikit-learn-pipelines-4ac0d974bdcf).\n",
        "\n",
        "<!-- #### Data visualization\n",
        "Calculate the correlation between different features, including the target variable. Visualize the correlations in a heatmap. A good example of how to do this can be found [here](https://towardsdatascience.com/better-heatmaps-and-correlation-matrix-plots-in-python-41445d0f2bec).\n",
        "\n",
        "Select a features you think will be an important predictor of the target variable and one which is not important. Explain your answers. -->\n",
        "\n",
        "#### Evaluation\n",
        "Use a validation technique from the previous lecture to evaluate the performance of the model. Explain and justify which metrics you used to compare the different models."
      ]
    },
    {
      "cell_type": "code",
      "execution_count": null,
      "metadata": {
        "id": "R2oKVSSbKft0"
      },
      "outputs": [],
      "source": [
        "from sklearn.compose import ColumnTransformer\n",
        "from sklearn.pipeline import Pipeline\n",
        "from sklearn.preprocessing import OneHotEncoder, MinMaxScaler\n",
        "from sklearn import tree\n",
        "from sklearn.svm import LinearSVC\n",
        "from sklearn.linear_model import SGDClassifier, LogisticRegression\n",
        "from sklearn.model_selection import cross_val_score, StratifiedKFold, cross_val_predict\n",
        "from sklearn.metrics import classification_report, accuracy_score\n",
        "from sklearn.decomposition import PCA\n",
        "import matplotlib.pyplot as plt\n",
        "import seaborn as sns\n",
        "\n",
        "\n",
        "# determine categorical and numerical features\n",
        "numerical_ix = ['age','education-num','capital-gain','capital-loss','hours-per-week']\n",
        "categorical_ix = ['workclass','marital-status','occupation','relationship','race','sex','native-country']\n",
        "\n",
        "# Define your preprocessing steps here\n",
        "steps = [('cat', OneHotEncoder(handle_unknown='ignore'), categorical_ix), ('num', MinMaxScaler() , numerical_ix)]\n",
        "\n",
        "\n",
        "# Apply your model to feature array X and labels y\n",
        "def apply_model(model, ct, X, y, feature_reduction = False):\n",
        "    pipeline_pca = Pipeline(steps=[('t', ct), ('pca', PCA(n_components=60)), ('m', model)])\n",
        "    pipeline_nopca = Pipeline(steps=[('t', ct) , ('m', model)])\n",
        "\n",
        "    return evaluate_model(X, y, pipeline_nopca, pipeline_pca, feature_reduction)\n",
        "\n",
        "# Apply your validation techniques and calculate metrics\n",
        "def evaluate_model(X, y, pipeline_nopca, pipeline_pca, feature_reduction=False):\n",
        "    cv = StratifiedKFold(n_splits=5, shuffle=True)\n",
        "\n",
        "    scores_nopca = cross_val_score(pipeline_nopca, X, y, cv=cv, scoring=\"accuracy\")\n",
        "    scores_pca = cross_val_score(pipeline_pca, X, y, cv=cv, scoring=\"accuracy\")\n",
        "\n",
        "    #print(\"Mean accuracy without PCA:\", scores_nopca.mean())\n",
        "    #print(\"Mean accuracy with PCA   :\", scores_pca.mean())\n",
        "\n",
        "    y_pred = cross_val_predict(pipeline_pca, X, y, cv=cv)\n",
        "\n",
        "    print(\"\\nClassification Report:\")\n",
        "    print(classification_report(y, y_pred))\n",
        "\n",
        "    return scores_nopca.mean(), scores_pca.mean()\n",
        "\n",
        "### DEPRECATED METHOD AS PCA IS USED INSTEAD OF FEATURE IMPORTANCE\n",
        "\n",
        "# def show_feature_importance(pipeline, X, y, top_n = 12):\n",
        "#     model = pipeline.named_steps[\"m\"]\n",
        "#     feature_names = pipeline.named_steps[\"t\"].get_feature_names_out()\n",
        "\n",
        "#     importance = None\n",
        "\n",
        "#     if hasattr(model, \"feature_importances_\"):\n",
        "#         importance = model.feature_importances_ * 100\n",
        "#     elif hasattr(model, \"coef_\"):\n",
        "#         importance = abs(model.coef_[0])\n",
        "#     else:\n",
        "#         print(\"Using permutation importance (slower)...\")\n",
        "#         r = permutation_importance(pipeline, X, y, n_repeats=10, random_state=42)\n",
        "#         importance = r.importances_mean\n",
        "\n",
        "#     df = pd.DataFrame({\"feature\": feature_names, \"importance\": importance})\n",
        "\n",
        "#     df[\"base_feature\"] = (\n",
        "#         df[\"feature\"]\n",
        "#         .str.replace(r\"^cat__|^num__\", \"\", regex=True)   # remove prefixes\n",
        "#         .str.split(\"_\").str[0]                          # keep original feature name\n",
        "#     )\n",
        "\n",
        "#     agg_df = df.groupby(\"base_feature\")[\"importance\"].sum().sort_values(ascending=False)\n",
        "\n",
        "#     print(\"\\nTop Features (aggregated):\")\n",
        "#     print(agg_df.head(top_n))\n",
        "\n",
        "#     red = agg_df.head(top_n).index.to_list()\n",
        "\n",
        "#     # --- Plot aggregated importance ---\n",
        "#     plt.figure(figsize=(10, 6))\n",
        "#     sns.barplot(x=agg_df.head(top_n), y=agg_df.head(top_n).index, palette=\"viridis\")\n",
        "#     plt.title(f\"Aggregated Feature Importance ({type(model).__name__})\")\n",
        "#     plt.xlabel(\"Importance\")\n",
        "#     plt.ylabel(\"Feature\")\n",
        "#     plt.show()\n",
        "\n",
        "#     return red\n",
        "\n",
        "# DEPRECATED METHOD AS PCA IS USED INSTEAD OF FEATURE SELECTION\n",
        "\n",
        "# def compare_and_plot(models, ct, X, y):\n",
        "#     cv = StratifiedKFold(n_splits=5, shuffle=True, random_state=42)\n",
        "#     results = {}\n",
        "\n",
        "#     for name, model in models.items():\n",
        "#         # Full features\n",
        "#         pipeline_full = Pipeline(steps=[('t', ct), ('m', model)])\n",
        "#         scores_full = cross_val_score(pipeline_full, X, y, cv=cv, scoring=\"accuracy\")\n",
        "\n",
        "#         # Reduced features\n",
        "#         reduced_features = apply_model(model, ct, X, y, feature_reduction=True)\n",
        "#         X_reduced = X[reduced_features]\n",
        "\n",
        "#         cat_selected = [c for c in reduced_features if c in categorical_ix]\n",
        "#         num_selected = [c for c in reduced_features if c in numerical_ix]\n",
        "\n",
        "#         ct_reduced = ColumnTransformer([\n",
        "#             ('cat', OneHotEncoder(handle_unknown='ignore'), cat_selected),\n",
        "#             ('num', MinMaxScaler(), num_selected)\n",
        "#         ])\n",
        "#         pipeline_reduced = Pipeline(steps=[('t', ct_reduced), ('m', model)])\n",
        "#         scores_reduced = cross_val_score(pipeline_reduced, X_reduced, y, cv=cv, scoring=\"accuracy\")\n",
        "\n",
        "#         # Store mean difference\n",
        "#         results[name] = scores_reduced.mean() - scores_full.mean()\n",
        "\n",
        "#     # Plot differences\n",
        "#     plt.figure(figsize=(8, 5))\n",
        "#     plt.barh(list(results.keys()), list(results.values()), color=\"skyblue\")\n",
        "#     plt.axvline(0, color=\"red\", linestyle=\"--\")\n",
        "#     plt.xlabel(\"Accuracy Difference (Reduced - Full)\")\n",
        "#     plt.title(\"Effect of Feature Reduction on Model Accuracy\")\n",
        "#     plt.show()\n",
        "\n",
        "#     return results\n",
        "\n",
        "ct = ColumnTransformer(steps)\n",
        "\n",
        "models = {\n",
        "    \"LogReg\": LogisticRegression(max_iter=10000),\n",
        "    \"SGD\": SGDClassifier(loss=\"hinge\", penalty=\"l2\", max_iter=10000),\n",
        "    \"DecisionTree\": tree.DecisionTreeClassifier(),\n",
        "    \"LinearSVC\": LinearSVC()\n",
        "}\n",
        "\n",
        "results_nopca = []\n",
        "results_pca = []\n",
        "\n",
        "for model in models.values():\n",
        "    y = data['salary']\n",
        "    X = data.drop('salary', axis=1)\n",
        "\n",
        "    npca, ypca = apply_model(model, ct, X, y)\n",
        "    results_nopca.append(npca)\n",
        "    results_pca.append(ypca)\n",
        "\n",
        "x = np.arange(len(models))\n",
        "width = 0.35\n",
        "\n",
        "plt.figure(figsize=(8,5))\n",
        "plt.bar(x - width/2, results_nopca, width, label=\"No PCA\", color=\"steelblue\")\n",
        "plt.bar(x + width/2, results_pca, width, label=\"With PCA\", color=\"orange\")\n",
        "plt.xticks(x, list(models.keys()))\n",
        "plt.ylabel(\"Mean CV Accuracy\")\n",
        "plt.title(\"Model Performance: With vs Without PCA\")\n",
        "plt.legend()\n",
        "plt.show()\n",
        "\n",
        "\n"
      ]
    },
    {
      "cell_type": "markdown",
      "metadata": {
        "id": "8OjDvFJuKft0"
      },
      "source": [
        "### Label perturbation\n",
        "To evaluate the impact of faulty labels in a dataset, we will introduce some errors in the labels of our data.\n",
        "\n",
        "\n",
        "#### Preparation\n",
        "Start by creating a method which alters a dataset by selecting a percentage of rows randomly and swaps labels from a 0->1 and 1->0.\n"
      ]
    },
    {
      "cell_type": "code",
      "execution_count": null,
      "metadata": {
        "id": "jv1-kPq7Kft0"
      },
      "outputs": [],
      "source": [
        "\"\"\"Given a label vector, create a new copy where a random fraction of the labels have been flipped.\"\"\"\n",
        "def pertubate(y: np.ndarray, fraction: float) -> np.ndarray:\n",
        "    copy = y.copy()\n",
        "    n = len(y)\n",
        "\n",
        "    rng = np.random.default_rng()\n",
        "    flip_idx = rng.choice(n, size=int(fraction*n), replace=False)\n",
        "\n",
        "    copy.iloc[flip_idx] = 1 - copy.iloc[flip_idx]\n",
        "\n",
        "    return copy"
      ]
    },
    {
      "cell_type": "markdown",
      "metadata": {
        "id": "HcWHSVYwKft0"
      },
      "source": [
        "#### Analysis\n",
        "Create a number of new datasets with perturbed labels, for fractions ranging from `0` to `0.5` in increments of `0.1`.\n",
        "\n",
        "Perform the same experiment you did before, which compared the performances of different models except with the new datasets. Repeat your experiment at least 5x for each model and perturbation level and calculate the mean and variance of the scores. Visualize the change in score for different perturbation levels for all of the models in a single plot.\n",
        "\n",
        "State your observations. Is there a change in the performance of the models? Are there some classifiers which are impacted more/less than other classifiers and why is this the case?"
      ]
    },
    {
      "cell_type": "code",
      "execution_count": null,
      "metadata": {
        "id": "FuWE4XuMKft0"
      },
      "outputs": [],
      "source": [
        "og_data = pd.read_csv(\"adult.csv\", na_values='?')\n",
        "data = og_data.copy()\n",
        "\n",
        "for column in data.columns:\n",
        "    nan_count = data[column].isna().sum()/len(data)*100\n",
        "\n",
        "data_before = len(data)\n",
        "data = data.dropna()\n",
        "data_after = len(data)\n",
        "\n",
        "data = data.drop(columns=['education', 'fnlwgt'])\n",
        "string_columns = ['workclass','marital-status','occupation','relationship','race','sex','native-country']\n",
        "for col in string_columns:\n",
        "    data[col] = pd.Categorical(data[col])\n",
        "\n",
        "data['salary'] = data['salary'].str.strip().str.replace(r\"\\.$\", \"\", regex=True)\n",
        "data['salary'] = data['salary'].replace({\"<=50K\":0, \">50K\":1})\n",
        "\n",
        "og_data = data"
      ]
    },
    {
      "cell_type": "code",
      "execution_count": null,
      "metadata": {
        "id": "D0G5vpjckewO"
      },
      "outputs": [],
      "source": [
        "salary = og_data['salary']\n",
        "\n",
        "data_00 = og_data.copy()\n",
        "\n",
        "data_01 = og_data.copy()\n",
        "data_01['salary'] = pertubate(salary, 0.1)\n",
        "\n",
        "data_02 = og_data.copy()\n",
        "data_02['salary'] = pertubate(salary, 0.2)\n",
        "\n",
        "data_03 = og_data.copy()\n",
        "data_03['salary'] = pertubate(salary, 0.3)\n",
        "\n",
        "data_04 = og_data.copy()\n",
        "data_04['salary'] = pertubate(salary, 0.4)\n",
        "\n",
        "data_05 = og_data.copy()\n",
        "data_05['salary'] = pertubate(salary, 0.5)\n",
        "\n",
        "# 4 different models\n",
        "lr = LogisticRegression()\n",
        "sgd = SGDClassifier(loss=\"hinge\", penalty=\"l2\", max_iter=10000)\n",
        "dt = tree.DecisionTreeClassifier()\n",
        "svc = LinearSVC()\n",
        "\n",
        "data = [(\"data_00\", data_00), (\"data_01\", data_01), (\"data_02\", data_02), (\"data_03\" ,data_03), (\"data_04\", data_04), (\"data_05\", data_05)]\n",
        "models = [lr, sgd, dt, svc]\n",
        "\n",
        "results = {\n",
        "    f\"data_{i:02d}\": {\n",
        "        model: {\"mean\": None, \"variance\": None}\n",
        "        for model in models\n",
        "    }\n",
        "    for i, _ in enumerate(data)\n",
        "}\n",
        "\n",
        "numerical_ix = ['age' ,'education-num','capital-gain','capital-loss','hours-per-week']\n",
        "categorical_ix = ['workclass','marital-status','occupation','relationship','race','sex','native-country']\n",
        "\n",
        "steps = [('cat', OneHotEncoder(handle_unknown='ignore'), categorical_ix), ('num', MinMaxScaler() , numerical_ix)]\n",
        "\n",
        "ct = ColumnTransformer(steps)\n",
        "\n",
        "for m in models:\n",
        "    for name, df in data:\n",
        "        scores = []\n",
        "\n",
        "        for r in range(0,5):\n",
        "            y = df['salary']\n",
        "            X = df.drop('salary', axis=1)\n",
        "\n",
        "            _, score = apply_model(m, ct, X, y)\n",
        "            scores.append(score)\n",
        "\n",
        "        mean = np.mean(scores)\n",
        "        variance = np.var(scores)\n",
        "\n",
        "        results[name][m][\"mean\"] = mean\n",
        "        results[name][m][\"variance\"] = variance\n",
        "\n"
      ]
    },
    {
      "cell_type": "code",
      "execution_count": null,
      "metadata": {
        "id": "xI9ye9kSkewP"
      },
      "outputs": [],
      "source": [
        "data_names = [\"data_00\", \"data_01\", \"data_02\", \"data_03\", \"data_04\", \"data_05\"]\n",
        "x = range(len(data_names))  # 0..5\n",
        "\n",
        "plt.figure(figsize=(8,5))\n",
        "\n",
        "for model in models:\n",
        "    means = [results[dname][model][\"mean\"] for dname in data_names]\n",
        "    variances = [results[dname][model][\"variance\"] for dname in data_names]\n",
        "    std_devs = np.sqrt(variances)\n",
        "\n",
        "    plt.plot(x, means, marker='o', label=model)\n",
        "    plt.fill_between(x,\n",
        "                     np.array(means) - std_devs,\n",
        "                     np.array(means) + std_devs,\n",
        "                     alpha=0.2)\n",
        "\n",
        "plt.xticks(x, data_names)\n",
        "plt.xlabel(\"Dataset\")\n",
        "plt.ylabel(\"Mean Score\")\n",
        "plt.title(\"Model Performance Across Datasets\")\n",
        "plt.legend()\n",
        "plt.grid(True)\n",
        "plt.show()"
      ]
    },
    {
      "cell_type": "code",
      "execution_count": null,
      "metadata": {
        "id": "10IunJVEkewP"
      },
      "outputs": [],
      "source": [
        "records = []\n",
        "for dataset, models_dict in results.items():\n",
        "    for model_name, stats in models_dict.items():\n",
        "        records.append({\n",
        "            \"Dataset\": dataset,\n",
        "            \"Model\": model_name,\n",
        "            \"Mean\": stats[\"mean\"],\n",
        "            \"Variance\": stats[\"variance\"]\n",
        "        })\n",
        "\n",
        "df = pd.DataFrame(records)\n",
        "\n",
        "print(df)"
      ]
    },
    {
      "cell_type": "markdown",
      "metadata": {
        "id": "1cteyZajKft0"
      },
      "source": [
        "Observations + explanations: max. 400 words"
      ]
    },
    {
      "cell_type": "markdown",
      "metadata": {
        "id": "yYEnN0iEKft0"
      },
      "source": [
        "#### Discussion\n",
        "\n",
        "1)  Discuss how you could reduce the impact of wrongly labeled data or correct wrong labels. <br />\n",
        "    max. 400 words\n",
        "\n",
        "\n",
        "\n",
        "    Authors: Youri Arkesteijn, Tim van der Horst and Kevin Chong.\n"
      ]
    },
    {
      "cell_type": "markdown",
      "metadata": {
        "id": "E3VOEXokKft0"
      },
      "source": [
        "## Machine Learning Workflow\n",
        "\n",
        "From part 1, you will have gone through the entire machine learning workflow which are they following steps:\n",
        "\n",
        "1) Data Loading\n",
        "2) Data Pre-processing\n",
        "3) Machine Learning Model Training\n",
        "4) Machine Learning Model Testing\n",
        "\n",
        "You can see these tasks are very sequential, and need to be done in a serial fashion.\n",
        "\n",
        "As a small perturbation in the actions performed in each of the steps may have a detrimental knock-on effect in the task that comes afterwards.\n",
        "\n",
        "In the final part of Part 1, you will have experienced the effects of performing perturbations to the machine learning model training aspect and the reaction of the machine learning model testing section."
      ]
    },
    {
      "cell_type": "markdown",
      "metadata": {
        "id": "vKVpGQ2dKft0"
      },
      "source": [
        "## Part 2 Data Discovery\n",
        "\n",
        "You will be given a set of datasets and you are tasked to perform data discovery on the data sets.\n",
        "\n",
        "<b>The datasets are provided in the group lockers on brightspace. Let me know if you are having trouble accessing the datasets</b>\n",
        "\n",
        "The process is to have the goal of finding datasets that are related to each other, finding relationships between the datasets.\n",
        "\n",
        "The relationships that we are primarily working with are Join and Union relationships.\n",
        "\n",
        "So please implement two methods for allowing us to find those pesky Join and Union relationships.\n",
        "\n",
        "Try to do this with the datasets as is and no processing.\n",
        "\n"
      ]
    },
    {
      "cell_type": "code",
      "execution_count": null,
      "metadata": {
        "id": "5lFqM8D5Kft0"
      },
      "outputs": [],
      "source": [
        "def discovery_algorithm():\n",
        "    \"\"\"Function should be able to perform data discovery to find related datasets\n",
        "    Possible Input: List of datasets\n",
        "    Output: List of pairs of related datasets\n",
        "    \"\"\"\n",
        "\n",
        "    pass"
      ]
    },
    {
      "cell_type": "code",
      "execution_count": null,
      "metadata": {
        "id": "PEhELGxjKft0"
      },
      "outputs": [],
      "source": [
        "\n",
        "\n"
      ]
    },
    {
      "cell_type": "markdown",
      "metadata": {
        "id": "0tvMAvoyKft0"
      },
      "source": [
        "You would have noticed that the data has some issues in them.\n",
        "So perhaps those issues have been troublesome to deal with.\n",
        "\n",
        "Please try to do some cleaning on the data.\n",
        "\n",
        "After performing cleaning see if the results of the data discovery has changed?\n",
        "\n",
        "Please try to explain this in your report, and try to match up the error with the observation."
      ]
    },
    {
      "cell_type": "code",
      "execution_count": null,
      "metadata": {
        "id": "kxcnIC8vKft0"
      },
      "outputs": [],
      "source": [
        "## Cleaning data, scrubbing, washing, mopping\n",
        "\n",
        "def cleaningData(data):\n",
        "    \"\"\"Function should be able to clean the data\n",
        "    Possible Input: List of datasets\n",
        "    Output: List of cleaned datasets\n",
        "    \"\"\"\n",
        "\n",
        "    pass"
      ]
    },
    {
      "cell_type": "markdown",
      "metadata": {
        "id": "nZ_h9aTsKft0"
      },
      "source": [
        "## Discussions\n",
        "\n",
        "1)  Different aspects of the data can effect the data discovery process. Write a short report on your findings. Such as which data quality issues had the largest effect on data discovery. Which data quality problem was repairable and how you choose to do the repair.\n",
        "\n",
        "<!-- For the set of considerations that you have outlined for the choice of data discovery methods, choose one and identify under this new constraint, how would you identify and resolve this problem? -->\n",
        "\n",
        "Max 400 words"
      ]
    }
  ],
  "metadata": {
    "colab": {
      "provenance": []
    },
    "kernelspec": {
      "display_name": "Python 3 (ipykernel)",
      "language": "python",
      "name": "python3"
    },
    "language_info": {
      "codemirror_mode": {
        "name": "ipython",
        "version": 3
      },
      "file_extension": ".py",
      "mimetype": "text/x-python",
      "name": "python",
      "nbconvert_exporter": "python",
      "pygments_lexer": "ipython3",
      "version": "3.10.11"
    }
  },
  "nbformat": 4,
  "nbformat_minor": 0
}